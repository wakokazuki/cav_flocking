{
 "cells": [
  {
   "cell_type": "code",
   "execution_count": 1,
   "metadata": {},
   "outputs": [
    {
     "name": "stdout",
     "output_type": "stream",
     "text": [
      "四角形は重なっていません\n"
     ]
    }
   ],
   "source": [
    "def is_overlapping(rect1, rect2):\n",
    "    # rect1とrect2は (x1, y1, x2, y2) の4つの整数で表される\n",
    "    x1_1, y1_1, x2_1, y2_1 = rect1\n",
    "    x1_2, y1_2, x2_2, y2_2 = rect2\n",
    "\n",
    "    # 2つの四角形が重なっているかどうかを判定\n",
    "    if x1_1 < x2_2 and x2_1 > x1_2 and y1_1 < y2_2 and y2_1 > y1_2:\n",
    "        return True\n",
    "    else:\n",
    "        return False\n",
    "\n",
    "# 2つの四角形の座標情報を定義\n",
    "rect1 = (-2, 2, 1, -1)\n",
    "rect2 = (-1, 4, 3, 1)\n",
    "\n",
    "# 重なっているかどうかを判定\n",
    "if is_overlapping(rect1, rect2):\n",
    "    print(\"四角形は重なっています\")\n",
    "else:\n",
    "    print(\"四角形は重なっていません\")\n"
   ]
  },
  {
   "cell_type": "code",
   "execution_count": 2,
   "metadata": {},
   "outputs": [
    {
     "name": "stdout",
     "output_type": "stream",
     "text": [
      "四角形は重なっています\n"
     ]
    }
   ],
   "source": [
    "from shapely.geometry import Polygon\n",
    "import numpy as np\n",
    "\n",
    "# 四角形の座標情報を定義\n",
    "rect1 = Polygon([np.zeros(2), (5, 1), (5, 5), (1, 5)])\n",
    "rect2 = Polygon([(4, 3), (7, 3), (7, 7), (4, 7)])\n",
    "\n",
    "# 重なりを判定\n",
    "if rect1.intersects(rect2):\n",
    "    print(\"四角形は重なっています\")\n",
    "else:\n",
    "    print(\"四角形は重なっていません\")\n"
   ]
  },
  {
   "cell_type": "code",
   "execution_count": 3,
   "metadata": {},
   "outputs": [],
   "source": [
    "a = np.array([2,3])"
   ]
  },
  {
   "cell_type": "code",
   "execution_count": 4,
   "metadata": {},
   "outputs": [
    {
     "data": {
      "text/plain": [
       "2"
      ]
     },
     "execution_count": 4,
     "metadata": {},
     "output_type": "execute_result"
    }
   ],
   "source": [
    "a[0]"
   ]
  },
  {
   "cell_type": "code",
   "execution_count": 5,
   "metadata": {},
   "outputs": [
    {
     "ename": "AttributeError",
     "evalue": "'numpy.int64' object has no attribute 'type'",
     "output_type": "error",
     "traceback": [
      "\u001b[0;31m---------------------------------------------------------------------------\u001b[0m",
      "\u001b[0;31mAttributeError\u001b[0m                            Traceback (most recent call last)",
      "Cell \u001b[0;32mIn[5], line 1\u001b[0m\n\u001b[0;32m----> 1\u001b[0m a[\u001b[39m0\u001b[39;49m]\u001b[39m.\u001b[39;49mtype()\n",
      "\u001b[0;31mAttributeError\u001b[0m: 'numpy.int64' object has no attribute 'type'"
     ]
    }
   ],
   "source": [
    "a[0].type()"
   ]
  },
  {
   "cell_type": "code",
   "execution_count": null,
   "metadata": {},
   "outputs": [
    {
     "ename": "",
     "evalue": "",
     "output_type": "error",
     "traceback": [
      "\u001b[1;31mカーネルを起動できませんでした。 \n",
      "\u001b[1;31mspawn /conda ENOENT. \n",
      "\u001b[1;31m詳細については、Jupyter [ログ] (command:jupyter.viewOutput) を参照してください。"
     ]
    }
   ],
   "source": [
    "vehicle.pos = np.array([2,3])\n",
    "agent.pos = np.array([3,4])"
   ]
  },
  {
   "cell_type": "code",
   "execution_count": null,
   "metadata": {},
   "outputs": [
    {
     "ename": "",
     "evalue": "",
     "output_type": "error",
     "traceback": [
      "\u001b[1;31mカーネルを起動できませんでした。 \n",
      "\u001b[1;31mspawn /conda ENOENT. \n",
      "\u001b[1;31m詳細については、Jupyter [ログ] (command:jupyter.viewOutput) を参照してください。"
     ]
    }
   ],
   "source": [
    "def car_rect(self,x_pos,y_pos,rotate_matrix):\n",
    "    pos = np.array([x_pos,y_pos])\n",
    "    pos_vec = np.zeros(2)\n",
    "    pos_vec[0] += params.CW / 2\n",
    "    pos_vec[1] += params.CL / 2\n",
    "    pos_vec = np.dot(rotate_matrix, pos_vec.T)\n",
    "    rect = Polygon([pos + pos_vec,  pos + (pos_vec[0],- pos_vec[1]),pos - pos_vec, pos + (-pos_vec[0],pos_vec[1])])\n",
    "    return rect\n"
   ]
  },
  {
   "cell_type": "code",
   "execution_count": null,
   "metadata": {},
   "outputs": [
    {
     "ename": "",
     "evalue": "",
     "output_type": "error",
     "traceback": [
      "\u001b[1;31mカーネルを起動できませんでした。 \n",
      "\u001b[1;31mspawn /conda ENOENT. \n",
      "\u001b[1;31m詳細については、Jupyter [ログ] (command:jupyter.viewOutput) を参照してください。"
     ]
    }
   ],
   "source": [
    "import numpy as np\n",
    "def car_rect(x_pos,y_pos,rotate_matrix):\n",
    "    pos = np.array([x_pos,y_pos])\n",
    "    pos_vec = np.zeros(2)\n",
    "    pos_vec[0] += 4 \n",
    "    pos_vec[1] += 2\n",
    "    pos_vec = np.dot(rotate_matrix, pos_vec.T)\n",
    "    print(pos_vec)\n",
    "    rect = Polygon([pos + pos_vec,  pos + (pos_vec[0],- pos_vec[1]),pos - pos_vec, pos + (-pos_vec[0],pos_vec[1])])\n",
    "    return rect"
   ]
  },
  {
   "cell_type": "code",
   "execution_count": null,
   "metadata": {},
   "outputs": [
    {
     "ename": "",
     "evalue": "",
     "output_type": "error",
     "traceback": [
      "\u001b[1;31mカーネルを起動できませんでした。 \n",
      "\u001b[1;31mspawn /conda ENOENT. \n",
      "\u001b[1;31m詳細については、Jupyter [ログ] (command:jupyter.viewOutput) を参照してください。"
     ]
    }
   ],
   "source": [
    "import numpy as np\n",
    "\n",
    "# 回転角度（ラジアン）を指定\n",
    "angle_degrees = 45  # 30度の回転（任意の角度を指定可能）\n",
    "angle_radians = np.radians(angle_degrees)  # ラジアンに変換\n",
    "\n",
    "# 回転行列を作成\n",
    "rotate_matrix = np.array([[np.cos(angle_radians), -np.sin(angle_radians)],\n",
    "                            [np.sin(angle_radians), np.cos(angle_radians)]])\n",
    "\n",
    "print(\"回転行列:\")\n",
    "print(rotate_matrix)\n"
   ]
  },
  {
   "cell_type": "code",
   "execution_count": null,
   "metadata": {},
   "outputs": [
    {
     "ename": "",
     "evalue": "",
     "output_type": "error",
     "traceback": [
      "\u001b[1;31mカーネルを起動できませんでした。 \n",
      "\u001b[1;31mspawn /conda ENOENT. \n",
      "\u001b[1;31m詳細については、Jupyter [ログ] (command:jupyter.viewOutput) を参照してください。"
     ]
    }
   ],
   "source": [
    "a = car_rect(2.,3.,rotate_matrix)\n",
    "print(a)"
   ]
  },
  {
   "cell_type": "code",
   "execution_count": null,
   "metadata": {},
   "outputs": [
    {
     "ename": "",
     "evalue": "",
     "output_type": "error",
     "traceback": [
      "\u001b[1;31mカーネルを起動できませんでした。 \n",
      "\u001b[1;31mspawn /conda ENOENT. \n",
      "\u001b[1;31m詳細については、Jupyter [ログ] (command:jupyter.viewOutput) を参照してください。"
     ]
    }
   ],
   "source": [
    "from shapely.geometry import Polygon\n",
    "import math\n",
    "\n",
    "# 回転前の四角形の頂点座標\n",
    "vertices = [(1, 1), (1, 4), (5, 5), (1, 5)]\n",
    "\n",
    "# 回転角度（ラジアン）を指定\n",
    "angle_degrees = 45  # 45度の回転（任意の角度を指定可能）\n",
    "angle_radians = math.radians(angle_degrees)  # ラジアンに変換\n",
    "\n",
    "# 回転中心の座標を指定（この例では四角形の中心を使用）\n",
    "center_x = (vertices[0][0] + vertices[2][0]) / 2\n",
    "center_y = (vertices[0][1] + vertices[2][1]) / 2\n",
    "\n",
    "# 回転後の四角形の頂点座標を計算\n",
    "rotated_vertices = [(center_x + (x - center_x) * math.cos(angle_radians) - (y - center_y) * math.sin(angle_radians),\n",
    "                     center_y + (x - center_x) * math.sin(angle_radians) + (y - center_y) * math.cos(angle_radians))\n",
    "                    for x, y in vertices]\n",
    "\n",
    "# 回転後の四角形を作成\n",
    "rotated_rectangle = Polygon(rotated_vertices)\n",
    "\n",
    "# 回転後の四角形の頂点座標を表示\n",
    "print(\"回転後の四角形の頂点座標:\")\n",
    "for vertex in rotated_vertices:\n",
    "    print(vertex)\n",
    "\n",
    "# 回転後の四角形を表示\n",
    "print(\"回転後の四角形:\")\n",
    "rotated_rectangle\n"
   ]
  },
  {
   "cell_type": "code",
   "execution_count": null,
   "metadata": {},
   "outputs": [
    {
     "ename": "",
     "evalue": "",
     "output_type": "error",
     "traceback": [
      "\u001b[1;31mカーネルを起動できませんでした。 \n",
      "\u001b[1;31mspawn /conda ENOENT. \n",
      "\u001b[1;31m詳細については、Jupyter [ログ] (command:jupyter.viewOutput) を参照してください。"
     ]
    }
   ],
   "source": [
    "vehicle = np.array([2,3])"
   ]
  },
  {
   "cell_type": "code",
   "execution_count": null,
   "metadata": {},
   "outputs": [
    {
     "ename": "",
     "evalue": "",
     "output_type": "error",
     "traceback": [
      "\u001b[1;31mカーネルを起動できませんでした。 \n",
      "\u001b[1;31mspawn /conda ENOENT. \n",
      "\u001b[1;31m詳細については、Jupyter [ログ] (command:jupyter.viewOutput) を参照してください。"
     ]
    }
   ],
   "source": [
    "agents = "
   ]
  },
  {
   "cell_type": "code",
   "execution_count": null,
   "metadata": {},
   "outputs": [
    {
     "ename": "",
     "evalue": "",
     "output_type": "error",
     "traceback": [
      "\u001b[1;31mカーネルを起動できませんでした。 \n",
      "\u001b[1;31mspawn /conda ENOENT. \n",
      "\u001b[1;31m詳細については、Jupyter [ログ] (command:jupyter.viewOutput) を参照してください。"
     ]
    }
   ],
   "source": [
    "from settings import calc\n",
    "rect_vehicle = vehicle.car_rect(x_pos = vehicle[0],y_pos = vehicle.pos[1],rotate_matrix = rotate_matrix)\n",
    "rotate_matrix, inverse_matrix = calc.get_rotate_matrix(ang = agents[i].theta)\n",
    "rect_agent = vehicle.car_rect(x_pos = agents.pos[0],y_pos = agents.pos[1],rotate_matrix = rotate_matrix)\n",
    "if rect_vehicle.intersects(rect_agent):\n",
    "    coll_count += 1"
   ]
  },
  {
   "cell_type": "code",
   "execution_count": null,
   "metadata": {},
   "outputs": [
    {
     "ename": "",
     "evalue": "",
     "output_type": "error",
     "traceback": [
      "\u001b[1;31mカーネルを起動できませんでした。 \n",
      "\u001b[1;31mspawn /conda ENOENT. \n",
      "\u001b[1;31m詳細については、Jupyter [ログ] (command:jupyter.viewOutput) を参照してください。"
     ]
    }
   ],
   "source": [
    "def add(x: int, y: int) -> int:\n",
    "    return x + y\n"
   ]
  },
  {
   "cell_type": "code",
   "execution_count": null,
   "metadata": {},
   "outputs": [
    {
     "ename": "",
     "evalue": "",
     "output_type": "error",
     "traceback": [
      "\u001b[1;31mカーネルを起動できませんでした。 \n",
      "\u001b[1;31mspawn /conda ENOENT. \n",
      "\u001b[1;31m詳細については、Jupyter [ログ] (command:jupyter.viewOutput) を参照してください。"
     ]
    }
   ],
   "source": [
    "x = np.array([2,3])\n",
    "y = np.array([3,4])\n",
    "add(x,y)"
   ]
  },
  {
   "cell_type": "code",
   "execution_count": null,
   "metadata": {},
   "outputs": [
    {
     "ename": "",
     "evalue": "",
     "output_type": "error",
     "traceback": [
      "\u001b[1;31mカーネルを起動できませんでした。 \n",
      "\u001b[1;31mspawn /conda ENOENT. \n",
      "\u001b[1;31m詳細については、Jupyter [ログ] (command:jupyter.viewOutput) を参照してください。"
     ]
    }
   ],
   "source": [
    "import math\n",
    "pos = np.array([1,1])\n",
    "o_xy = np.array([0,0])\n",
    "\n",
    "dis = np.linalg.norm(pos - o_xy) # np.array\n",
    "pos_dash = pos - o_xy\n",
    "rad_x = math.acos(pos_dash[0]/dis)\n",
    "rad_y = math.asin(pos_dash[1]/dis)\n",
    "print(rad_x, rad_y)"
   ]
  },
  {
   "cell_type": "code",
   "execution_count": null,
   "metadata": {},
   "outputs": [
    {
     "ename": "",
     "evalue": "",
     "output_type": "error",
     "traceback": [
      "\u001b[1;31mカーネルを起動できませんでした。 \n",
      "\u001b[1;31mspawn /conda ENOENT. \n",
      "\u001b[1;31m詳細については、Jupyter [ログ] (command:jupyter.viewOutput) を参照してください。"
     ]
    }
   ],
   "source": [
    "np.pi/4"
   ]
  },
  {
   "cell_type": "code",
   "execution_count": null,
   "metadata": {},
   "outputs": [
    {
     "ename": "",
     "evalue": "",
     "output_type": "error",
     "traceback": [
      "\u001b[1;31mカーネルを起動できませんでした。 \n",
      "\u001b[1;31mspawn /conda ENOENT. \n",
      "\u001b[1;31m詳細については、Jupyter [ログ] (command:jupyter.viewOutput) を参照してください。"
     ]
    }
   ],
   "source": [
    "\n",
    "import numpy as np\n",
    "import matplotlib.pyplot as plt\n",
    "\n",
    "# 半円を描くための角度の範囲を設定\n",
    "theta = np.linspace(np.pi/2, np.pi, )  # 0からπまでの100個の点\n",
    "\n",
    "# 半円のx座標とy座標を計算\n",
    "radius = 1.0\n",
    "x = radius * np.cos(theta)\n",
    "y = radius * np.sin(theta)\n",
    "\n",
    "# プロット\n",
    "fig, ax = plt.subplots()\n",
    "ax.plot(x, y)\n",
    "\n",
    "# グラフの設定（オプション）\n",
    "ax.set_aspect('equal')  # アスペクト比を等しく設定\n",
    "\n",
    "# グラフの表示\n",
    "plt.show()"
   ]
  },
  {
   "cell_type": "code",
   "execution_count": null,
   "metadata": {},
   "outputs": [
    {
     "ename": "",
     "evalue": "",
     "output_type": "error",
     "traceback": [
      "\u001b[1;31mカーネルを起動できませんでした。 \n",
      "\u001b[1;31mspawn /conda ENOENT. \n",
      "\u001b[1;31m詳細については、Jupyter [ログ] (command:jupyter.viewOutput) を参照してください。"
     ]
    }
   ],
   "source": [
    "theta_circle =  np.linspace(np.pi/2, np.pi, 50)"
   ]
  },
  {
   "cell_type": "code",
   "execution_count": null,
   "metadata": {},
   "outputs": [
    {
     "ename": "",
     "evalue": "",
     "output_type": "error",
     "traceback": [
      "\u001b[1;31mカーネルを起動できませんでした。 \n",
      "\u001b[1;31mspawn /conda ENOENT. \n",
      "\u001b[1;31m詳細については、Jupyter [ログ] (command:jupyter.viewOutput) を参照してください。"
     ]
    }
   ],
   "source": [
    "fig, ax = plt.subplots()\n",
    "for i in range(3+1):\n",
    "    radius = 9 + 3 * i\n",
    "    x = radius * np.cos(theta_circle) +9\n",
    "    y = radius * np.sin(theta_circle) -9\n",
    "    ax.plot(x, y,color = 'black')\n",
    "\n",
    "# グラフの設定（オプション）\n",
    "ax.set_aspect('equal')  # アスペクト比を等しく設定\n",
    "\n",
    "# グラフの表示\n",
    "plt.show()"
   ]
  },
  {
   "cell_type": "code",
   "execution_count": null,
   "metadata": {},
   "outputs": [
    {
     "ename": "",
     "evalue": "",
     "output_type": "error",
     "traceback": [
      "\u001b[1;31mカーネルを起動できませんでした。 \n",
      "\u001b[1;31mspawn /conda ENOENT. \n",
      "\u001b[1;31m詳細については、Jupyter [ログ] (command:jupyter.viewOutput) を参照してください。"
     ]
    }
   ],
   "source": [
    "\n",
    "def calculate_distance(rect1, rect2):\n",
    "    # rect1とrect2は (x1, y1, x2, y2) の4つの整数で表される四角形\n",
    "    x1_1, y1_1, x2_1, y2_1 = rect1\n",
    "    x1_2, y1_2, x2_2, y2_2 = rect2\n",
    "\n",
    "    # rect1の中心点\n",
    "    center1 = ((x1_1 + x2_1) / 2, (y1_1 + y2_1) / 2)\n",
    "\n",
    "    # rect2の中心点\n",
    "    center2 = ((x1_2 + x2_2) / 2, (y1_2 + y2_2) / 2)\n",
    "\n",
    "    # 中心点同士の距離を計算\n",
    "    distance = ((center1[0] - center2[0])**2 + (center1[1] - center2[1])**2)**0.5\n",
    "\n",
    "    return distance\n",
    "\n",
    "# 2つの四角形の座標情報を定義\n",
    "rect1 = (1, 1, 2, 2)\n",
    "rect2 = (4, 2, 12, 12)\n",
    "\n",
    "# 距離を計算\n",
    "distance = calculate_distance(rect1, rect2)\n",
    "print(f\"二つの四角形の中心点の距離: {distance}\")"
   ]
  },
  {
   "cell_type": "code",
   "execution_count": null,
   "metadata": {},
   "outputs": [
    {
     "ename": "",
     "evalue": "",
     "output_type": "error",
     "traceback": [
      "\u001b[1;31mカーネルを起動できませんでした。 \n",
      "\u001b[1;31mspawn /conda ENOENT. \n",
      "\u001b[1;31m詳細については、Jupyter [ログ] (command:jupyter.viewOutput) を参照してください。"
     ]
    }
   ],
   "source": [
    "from shapely.geometry import Polygon\n",
    "\n",
    "# 2つの四角形を作成\n",
    "rect1 = Polygon([(1, 1), (5, 1), (5, 5), (1, 5)])\n",
    "rect2 = Polygon([(1, 1), (12, 8), (12, 12), (8, 12)])\n",
    "\n",
    "# 二つの四角形の距離を計算\n",
    "distance = rect1.distance(rect2)\n",
    "\n",
    "print(f\"二つの四角形の距離: {distance}\")\n"
   ]
  },
  {
   "cell_type": "code",
   "execution_count": null,
   "metadata": {},
   "outputs": [
    {
     "ename": "",
     "evalue": "",
     "output_type": "error",
     "traceback": [
      "\u001b[1;31mカーネルを起動できませんでした。 \n",
      "\u001b[1;31mspawn /conda ENOENT. \n",
      "\u001b[1;31m詳細については、Jupyter [ログ] (command:jupyter.viewOutput) を参照してください。"
     ]
    }
   ],
   "source": [
    "vehicle = self.agents[num] # 車両\n",
    "        lane_vec = np.zeros(2) # vector[x,y]\n",
    "        x_axis = 0\n",
    "        y_axis = 1\n",
    "        [p_edge, p_lane] = set.get_flock_parameter(set_params=vehicle.set_params, frc_key=\"LAN\") #パラメータの取得\n",
    "        theta = self.env.calc_head_theta(vehicle.pos)  #車両のいる位置における中心へのベクトルを取得\n",
    "        rotate_matrix, _ = calc.get_rotate_matrix(ang=theta) #回転行列の取得\n",
    "        scene = self.env.dec_drive_scene(vehicle.pos)  #走行シーンを取得\n",
    "        # 道路端から受ける力\n",
    "        road_pos = self.env.calc_lane(vehicle.pre_pos)\n",
    "        half_road = params.SIZE_Y/2 \n",
    "        to_center = half_road - road_pos\n",
    "        dis_from_wall = half_road - abs(to_center)\n",
    "            \n",
    "            if to_center >= 0:\n",
    "                if scene != \"INT\" and dis_from_wall <= params.ROAD_DIS:  #作用範囲より壁に近い時に発動する\n",
    "                    lane_vec[x_axis] += p_edge * self.env.adj * (params.ROAD_DIS - dis_from_wall) * to_center/abs(to_center) \n",
    "                # lane force\n",
    "                #lane_vec[x_axis] -= p_lane*np.pi/params.W_LANE*(np.sin(2*np.pi*road_pos/params.W_LANE))\n",
    "                lane_vec[x_axis] -= p_lane*np.pi/params.W_LANE*(np.cos(np.pi*road_pos/params.W_LANE))\n",
    "                lane_vec = np.dot(rotate_matrix, lane_vec.T)\n",
    "            elif to_center < 0:\n",
    "                #print(scene)\n",
    "                if scene != \"INT\" and dis_from_wall <= params.ROAD_DIS:  #作用範囲より壁に近い時に発動する\n",
    "                    lane_vec[x_axis] += p_edge * self.env.adj * (params.ROAD_DIS - dis_from_wall) * to_center/abs(to_center) \n",
    "                # lane force\n",
    "                #lane_vec[x_axis] += p_lane*np.pi/params.W_LANE*(np.sin(2*np.pi*road_pos/params.W_LANE))\n",
    "                lane_vec[x_axis] -= p_lane*np.pi/params.W_LANE*(np.cos(np.pi*road_pos/params.W_LANE))\n",
    "                lane_vec = np.dot(rotate_matrix, lane_vec.T)\n",
    "        return lane_vec"
   ]
  },
  {
   "cell_type": "code",
   "execution_count": 176,
   "metadata": {},
   "outputs": [
    {
     "name": "stdout",
     "output_type": "stream",
     "text": [
      "0.10054943396276528 0.10054943396276528 [[ 1. -0.]\n",
      " [ 0.  1.]] 0.0\n"
     ]
    }
   ],
   "source": [
    "[p_edge, p_lane] = [1,1]\n",
    "#theta = \n",
    "road_pos, _, __ = self.rotate_angle(o_xy=np.array([9,-9]), pos=pos)\n",
    "\n",
    "half_road = 9.0/2 \n",
    "to_center = half_road - road_pos\n",
    "dis_from_wall = half_road - abs(to_center)\n",
    "\n",
    "rotate_matrix = np.array([[np.cos(ang), -np.sin(ang)],\n",
    "                          [np.sin(ang), np.cos(ang)]]) # 回転行列\n",
    "\n",
    "print(dis_from_wall,rotate_matrix,ang/np.pi)"
   ]
  },
  {
   "cell_type": "code",
   "execution_count": 175,
   "metadata": {},
   "outputs": [
    {
     "name": "stdout",
     "output_type": "stream",
     "text": [
      "[0.         1.04139774] [0.         1.39945057]\n"
     ]
    }
   ],
   "source": [
    "import numpy as np\n",
    "\n",
    "lane_vec_edge = np.zeros(2) # vector[x,y]\n",
    "lane_vec_lane = np.zeros(2) # vector[x,y]\n",
    "if dis_from_wall <= 1.5:\n",
    "    lane_vec_edge[1] += p_edge * 1.0 * (1.5 - dis_from_wall) * to_center/abs(to_center) \n",
    "lane_vec_lane[1] += p_lane*np.pi/3.0*(np.cos(np.pi*road_pos/3.0))\n",
    "lane_vec_edge = np.dot(rotate_matrix, lane_vec_edge.T)\n",
    "lane_vec_lane = np.dot(rotate_matrix, lane_vec_lane.T)\n",
    "print(lane_vec_lane,lane_vec_edge)"
   ]
  },
  {
   "cell_type": "code",
   "execution_count": 28,
   "metadata": {},
   "outputs": [],
   "source": [
    "import numpy as np\n",
    "import pandas as pd\n",
    "driving_mode = \"inter\"\n",
    "max_vel = 4\n",
    "leader_vel = np.loadtxt(f\"../out/leader/csv/{driving_mode}_speed{int(max_vel):02}_path_velocity.csv\",delimiter=\",\", dtype=\"float64\") "
   ]
  },
  {
   "cell_type": "code",
   "execution_count": 33,
   "metadata": {},
   "outputs": [
    {
     "data": {
      "text/plain": [
       "array([0.087, 3.999])"
      ]
     },
     "execution_count": 33,
     "metadata": {},
     "output_type": "execute_result"
    }
   ],
   "source": [
    "t = 50\n",
    "vector_x = leader_vel[0,t]\n",
    "vector_y = leader_vel[1,t]\n",
    "vector = np.array([vector_x,vector_y])\n",
    "vector"
   ]
  },
  {
   "cell_type": "code",
   "execution_count": 8,
   "metadata": {},
   "outputs": [
    {
     "data": {
      "text/plain": [
       "-0.001"
      ]
     },
     "execution_count": 8,
     "metadata": {},
     "output_type": "execute_result"
    }
   ],
   "source": [
    "leader_vel\n",
    "t = 0\n",
    "x_sp = leader_vel[0,t]\n",
    "x_sp"
   ]
  },
  {
   "cell_type": "code",
   "execution_count": 11,
   "metadata": {},
   "outputs": [
    {
     "name": "stdout",
     "output_type": "stream",
     "text": [
      "一行目の2番目の数字を削除した結果:\n",
      " [[1 3]\n",
      " [4 6]\n",
      " [7 9]]\n"
     ]
    }
   ],
   "source": [
    "import numpy as np\n",
    "\n",
    "# 例として3x3の行列を作成\n",
    "array = np.array([[1, 2, 3],\n",
    "                  [4, 5, 6],\n",
    "                  [7, 8, 9]])\n",
    "\n",
    "# 一行目の2番目の数字を削除\n",
    "row_index = 0\n",
    "column_index = 1\n",
    "\n",
    "# 特定の位置の行と列を削除\n",
    "array = np.delete(array, column_index, axis=1)\n",
    "\n",
    "print(\"一行目の2番目の数字を削除した結果:\\n\", array)\n"
   ]
  },
  {
   "cell_type": "code",
   "execution_count": null,
   "metadata": {},
   "outputs": [],
   "source": []
  }
 ],
 "metadata": {
  "kernelspec": {
   "display_name": "flock",
   "language": "python",
   "name": "python3"
  },
  "language_info": {
   "codemirror_mode": {
    "name": "ipython",
    "version": 3
   },
   "file_extension": ".py",
   "mimetype": "text/x-python",
   "name": "python",
   "nbconvert_exporter": "python",
   "pygments_lexer": "ipython3",
   "version": "3.10.11"
  },
  "orig_nbformat": 4,
  "vscode": {
   "interpreter": {
    "hash": "f65b5d7e1db8a0565acb1d66b8c995cd2df700ce115625d078bd0ec897b82d0e"
   }
  }
 },
 "nbformat": 4,
 "nbformat_minor": 2
}
