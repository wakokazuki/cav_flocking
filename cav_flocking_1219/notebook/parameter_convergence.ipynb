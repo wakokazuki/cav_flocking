{
 "cells": [
  {
   "attachments": {},
   "cell_type": "markdown",
   "metadata": {},
   "source": [
    "# コードについて\n",
    "\n",
    "10回の多目的最適化において, Flockingパラメータの平均値と分散を図示"
   ]
  },
  {
   "cell_type": "code",
   "execution_count": null,
   "metadata": {},
   "outputs": [],
   "source": [
    "import pandas as pd\n",
    "import matplotlib.pyplot as plt\n",
    "import numpy as np\n",
    "import glob\n",
    "import os\n",
    "import sys\n",
    "\n",
    "sys.path.append(os.path.abspath(\"..\"))\n",
    "from parameters import params\n",
    "\n",
    "plt.rcParams[\"font.size\"] = 16\n",
    "plt.rcParams[\"font.family\"] = \"Arial\""
   ]
  },
  {
   "cell_type": "code",
   "execution_count": null,
   "metadata": {},
   "outputs": [],
   "source": [
    "# print\n",
    "files = glob.glob('../out/csv/*.csv')\n",
    "for file in files:\n",
    "    print(file)"
   ]
  },
  {
   "cell_type": "code",
   "execution_count": null,
   "metadata": {},
   "outputs": [],
   "source": [
    "# ファイルを選択\n",
    "file_name = 'no_coll.csv'\n",
    "df = pd.read_csv(f'../out/csv/{file_name}', header=0, index_col=0)\n",
    "# パラメータの数を取得\n",
    "param_num = 0\n",
    "for keys in params.FRC_DICT.keys():\n",
    "    param_num += int(params.FRC_DICT[keys])*len(params.L_LIM_DICT[keys])\n",
    "print(param_num)\n",
    "# Flockingパラメータのデータを抽出\n",
    "df_param = df.iloc[:, :param_num]\n",
    "df_param"
   ]
  },
  {
   "cell_type": "code",
   "execution_count": null,
   "metadata": {},
   "outputs": [],
   "source": [
    "# 列ラベルを取得\n",
    "x_column = list(df_param.columns)\n",
    "x_column = np.array(x_column)\n",
    "\n",
    "# 各パラメータの下限(ll)と上限(ul)を取得\n",
    "list_ll = []\n",
    "list_ul = []\n",
    "for keys in params.FRC_DICT.keys():\n",
    "    if params.FRC_DICT[keys]:\n",
    "        list_ll.extend(params.L_LIM_DICT[keys])\n",
    "        list_ul.extend(params.U_LIM_DICT[keys])\n",
    "\n",
    "# データを(Min -> 0, Max -> 1)に変更\n",
    "for col in range(len(df_param.columns)):\n",
    "    label = x_column[col]\n",
    "    df_param[label] = (df_param[label]-list_ll[col])/(list_ul[col] - list_ll[col])\n",
    "# print(df_param)\n",
    "# 調整したデータを取得\n",
    "y_mean = np.array(df_param.mean())\n",
    "y_sd = np.array(df_param.std())"
   ]
  },
  {
   "cell_type": "code",
   "execution_count": null,
   "metadata": {},
   "outputs": [],
   "source": [
    "fig, ax = plt.subplots(figsize=(6, 4))\n",
    "ax.errorbar(x_column, y_mean, yerr=y_sd, capsize=4, fmt=\"o\", ecolor=\"tab:red\", color=\"tab:red\")\n",
    "ax.set_ylabel('Parameter Range')\n",
    "ax.set_yticks([0,1])\n",
    "ax.set_yticklabels(['Min', 'Max'])\n",
    "# plt.savefig('param_range.png', dpi=200)\n",
    "ax.set_xticks(np.arange(param_num))\n",
    "ax.set_xticklabels(x_column, rotation = 45)\n",
    "ax.hlines(y=[0,1], xmin=0, xmax=param_num-1, linestyle=\"dashed\", colors=\"k\")\n",
    "plt.tight_layout()\n",
    "# plt.savefig(\"parameter_convergence.png\", dpi=150)\n",
    "plt.show()"
   ]
  },
  {
   "cell_type": "code",
   "execution_count": null,
   "metadata": {},
   "outputs": [],
   "source": []
  }
 ],
 "metadata": {
  "interpreter": {
   "hash": "08e5f2c77470632ec39084befc782e6f8d1299802e441a9a91c9941d30dbdb8d"
  },
  "kernelspec": {
   "display_name": "Python 3.10.4 ('flock')",
   "language": "python",
   "name": "python3"
  },
  "language_info": {
   "codemirror_mode": {
    "name": "ipython",
    "version": 3
   },
   "file_extension": ".py",
   "mimetype": "text/x-python",
   "name": "python",
   "nbconvert_exporter": "python",
   "pygments_lexer": "ipython3",
   "version": "3.10.6"
  },
  "orig_nbformat": 4
 },
 "nbformat": 4,
 "nbformat_minor": 2
}
